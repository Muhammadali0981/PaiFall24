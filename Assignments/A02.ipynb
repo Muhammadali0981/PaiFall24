{
 "cells": [
  {
   "cell_type": "markdown",
   "metadata": {},
   "source": [
    "## Q01"
   ]
  },
  {
   "cell_type": "code",
   "execution_count": 2,
   "metadata": {},
   "outputs": [
    {
     "name": "stdout",
     "output_type": "stream",
     "text": [
      "Sum is 55\n",
      "Mean is 5.5\n",
      "Product is 3628800\n"
     ]
    }
   ],
   "source": [
    "import numpy as np\n",
    "\n",
    "arr = np.arange(1, 11)\n",
    "print(f'Sum is {arr.sum()}\\nMean is {arr.mean()}\\nProduct is {arr.prod()}')"
   ]
  },
  {
   "cell_type": "markdown",
   "metadata": {},
   "source": [
    "## Q02"
   ]
  },
  {
   "cell_type": "code",
   "execution_count": 22,
   "metadata": {},
   "outputs": [
    {
     "name": "stdout",
     "output_type": "stream",
     "text": [
      "Matrix:\n",
      " [[1 3 8]\n",
      " [3 7 6]\n",
      " [5 3 4]]\n",
      "Transpose:\n",
      " [[1 3 5]\n",
      " [3 7 3]\n",
      " [8 6 4]]\n"
     ]
    }
   ],
   "source": [
    "mat = np.random.randint(1, 10 ,size = (3, 3))\n",
    "t = np.transpose(mat)\n",
    "\n",
    "print(f'Matrix:\\n {mat}\\nTranspose:\\n {t}')\n"
   ]
  },
  {
   "cell_type": "markdown",
   "metadata": {},
   "source": [
    "## Q03"
   ]
  },
  {
   "cell_type": "code",
   "execution_count": 24,
   "metadata": {},
   "outputs": [
    {
     "name": "stdout",
     "output_type": "stream",
     "text": [
      "Array:\n",
      "[ 1  2  3  4  5  6  7  8  9 10 11 12 13 14 15 16 17 18 19 20]\n",
      "Reshape:\n",
      "[[ 1  2  3  4  5]\n",
      " [ 6  7  8  9 10]\n",
      " [11 12 13 14 15]\n",
      " [16 17 18 19 20]]\n"
     ]
    }
   ],
   "source": [
    "arr = np.arange(1, 21)\n",
    "arr_reshaped = arr.reshape(4, 5)\n",
    "\n",
    "print(f'Array:\\n{arr}\\nReshape:\\n{arr_reshaped}')\n"
   ]
  },
  {
   "cell_type": "markdown",
   "metadata": {},
   "source": [
    "## Q04"
   ]
  },
  {
   "cell_type": "code",
   "execution_count": 25,
   "metadata": {},
   "outputs": [
    {
     "name": "stdout",
     "output_type": "stream",
     "text": [
      "The first Array is:  [16 19 13 11  1 10  2 17]\n",
      "The second Array is:  [19 10 18  9  7 13 17 11]\n",
      "Addition: [35 29 31 20  8 23 19 28]\n",
      "Multiplication: [304 190 234  99   7 130  34 187]\n",
      "Subtraction: [ -3   9  -5   2  -6  -3 -15   6]\n",
      "Division: [0.84210526 1.9        0.72222222 1.22222222 0.14285714 0.76923077\n",
      " 0.11764706 1.54545455]\n",
      "\n"
     ]
    }
   ],
   "source": [
    "arr_1 = np.random.randint(1, 20, 8)\n",
    "arr_2 = np.random.randint(1, 20, 8)\n",
    "\n",
    "print(\"The first Array is: \", arr_1)\n",
    "print(\"The second Array is: \", arr_2)\n",
    "\n",
    "print(f\"Addition: {np.add(arr_1, arr_2)}\\nMultiplication: {np.multiply(arr_1, arr_2)}\\nSubtraction: {np.subtract(arr_1, arr_2)}\\nDivision: {np.divide(arr_1, arr_2)}\\n\")"
   ]
  },
  {
   "cell_type": "markdown",
   "metadata": {},
   "source": [
    "## Q05"
   ]
  },
  {
   "cell_type": "code",
   "execution_count": 8,
   "metadata": {},
   "outputs": [
    {
     "name": "stdout",
     "output_type": "stream",
     "text": [
      "Original Array:[  1   4   9  16  25  36  49  64  81 100]\n"
     ]
    },
    {
     "data": {
      "text/plain": [
       "array([ 1.,  2.,  3.,  4.,  5.,  6.,  7.,  8.,  9., 10.])"
      ]
     },
     "execution_count": 8,
     "metadata": {},
     "output_type": "execute_result"
    }
   ],
   "source": [
    "nums = np.array([1, 4, 9, 16, 25, 36, 49, 64, 81, 100])\n",
    "arr = np.sqrt(nums)\n",
    "\n",
    "print(f'Original Array:{nums}')\n",
    "arr"
   ]
  },
  {
   "cell_type": "markdown",
   "metadata": {},
   "source": [
    "## Q06"
   ]
  },
  {
   "cell_type": "code",
   "execution_count": 45,
   "metadata": {},
   "outputs": [
    {
     "name": "stdout",
     "output_type": "stream",
     "text": [
      "[[7 9]\n",
      " [4 9]]\n",
      "determinant:27\n",
      "Inverse:\n",
      "[[ 0.33333333 -0.33333333]\n",
      " [-0.14814815  0.25925926]]\n"
     ]
    }
   ],
   "source": [
    "matrix = np.random.randint(1, 10 ,size = (2, 2))\n",
    "det = int(np.linalg.det(matrix))\n",
    "print(matrix)\n",
    "\n",
    "if det == 0:\n",
    "    print(f'determinant:{det} hence zero inverse doesnt exist')\n",
    "else:\n",
    "    print(f'determinant:{det}\\nInverse:\\n{np.linalg.inv(matrix)}')"
   ]
  },
  {
   "cell_type": "markdown",
   "metadata": {},
   "source": [
    "## Q07"
   ]
  },
  {
   "cell_type": "code",
   "execution_count": 57,
   "metadata": {},
   "outputs": [
    {
     "name": "stdout",
     "output_type": "stream",
     "text": [
      "max index = 41\n",
      "min index = 48\n"
     ]
    }
   ],
   "source": [
    "arr = np.random.randint(1, 10000 ,50)\n",
    "\n",
    "print(f'max index = {np.argmax(arr)}\\nmin index = {np.argmin(arr)}')"
   ]
  },
  {
   "cell_type": "markdown",
   "metadata": {},
   "source": [
    "## Q08"
   ]
  },
  {
   "cell_type": "code",
   "execution_count": 66,
   "metadata": {},
   "outputs": [
    {
     "data": {
      "text/plain": [
       "array([ 1.17821782,  0.35643564, -0.1980198 ])"
      ]
     },
     "execution_count": 66,
     "metadata": {},
     "output_type": "execute_result"
    }
   ],
   "source": [
    "coefficent_mat = np.array([[2, 4, 9],[1, 9, 7],[3, 8, 7]])\n",
    "const_mat = np.array([2, 3, 5])\n",
    "\n",
    "np.linalg.solve(coefficent_mat, const_mat)"
   ]
  },
  {
   "cell_type": "markdown",
   "metadata": {},
   "source": [
    "## Q09"
   ]
  },
  {
   "cell_type": "code",
   "execution_count": 67,
   "metadata": {},
   "outputs": [
    {
     "data": {
      "text/plain": [
       "8116.0"
      ]
     },
     "execution_count": 67,
     "metadata": {},
     "output_type": "execute_result"
    }
   ],
   "source": [
    "arr = np.random.randint(1, 10000 ,25)\n",
    "\n",
    "np.percentile(arr, 75)"
   ]
  },
  {
   "cell_type": "markdown",
   "metadata": {},
   "source": [
    "## Q10"
   ]
  },
  {
   "cell_type": "code",
   "execution_count": 112,
   "metadata": {},
   "outputs": [
    {
     "name": "stdout",
     "output_type": "stream",
     "text": [
      "Array = [29 52 16 15 87]\n",
      "Normalized:[-0.39837484  0.45001602 -0.87790011 -0.91478667  1.7410456 ]\n"
     ]
    }
   ],
   "source": [
    "def normalize_array(array):\n",
    "    mean = np.mean(arr)\n",
    "    std_deviation = np.std(arr)\n",
    "    \n",
    "    return np.divide((np.subtract(arr, mean)), std_deviation)\n",
    "\n",
    "arr = np.random.randint(1, 100, 5)\n",
    "print(f'Array = {arr}\\nNormalized:{normalize_array(arr)}')\n"
   ]
  }
 ],
 "metadata": {
  "kernelspec": {
   "display_name": "Python 3",
   "language": "python",
   "name": "python3"
  },
  "language_info": {
   "codemirror_mode": {
    "name": "ipython",
    "version": 3
   },
   "file_extension": ".py",
   "mimetype": "text/x-python",
   "name": "python",
   "nbconvert_exporter": "python",
   "pygments_lexer": "ipython3",
   "version": "3.12.4"
  }
 },
 "nbformat": 4,
 "nbformat_minor": 2
}
